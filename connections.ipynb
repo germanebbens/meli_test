{
 "cells": [
  {
   "cell_type": "markdown",
   "metadata": {},
   "source": [
    "# Nivel 1\n",
    "Conexión a base de datos y ejecución de querys."
   ]
  },
  {
   "cell_type": "code",
   "execution_count": 1,
   "metadata": {},
   "outputs": [],
   "source": [
    "# import library to connect with db\n",
    "import psycopg2"
   ]
  },
  {
   "cell_type": "code",
   "execution_count": 2,
   "metadata": {},
   "outputs": [],
   "source": [
    "# Connect with postgres db\n",
    "try:\n",
    "    conn = psycopg2.connect(port=5432, host=\"localhost\", database=\"MeLi\",\n",
    "                            user=\"MeLi\", password=\"MeLi\")\n",
    "except Exception as e:\n",
    "    print(e)"
   ]
  },
  {
   "cell_type": "markdown",
   "metadata": {},
   "source": [
    "## Query 1\n",
    "\n",
    "¿Cuál es la hora del día en que se realizan más búsquedas en MercadoLibre?"
   ]
  },
  {
   "cell_type": "code",
   "execution_count": 3,
   "metadata": {},
   "outputs": [
    {
     "name": "stdout",
     "output_type": "stream",
     "text": [
      "Hora con más frecuencia de búsquedas: 23 hs.\n"
     ]
    }
   ],
   "source": [
    "# Open a cursor to perform database operations\n",
    "cur = conn.cursor()\n",
    "\n",
    "# Execute a query\n",
    "cur.execute(\"\"\"\n",
    "SELECT extract(hour from timestamp) as hour\n",
    "FROM dataset_meli\n",
    "WHERE event_name = 'SEARCH'\n",
    "GROUP BY hour\n",
    "ORDER BY count(*) desc\n",
    "LIMIT 1;\n",
    "\"\"\")\n",
    "\n",
    "# Retrieve query results\n",
    "query_1 = cur.fetchall()\n",
    "print(f'Hora con más frecuencia de búsquedas: {query_1[0][0]} hs.')"
   ]
  },
  {
   "cell_type": "markdown",
   "metadata": {},
   "source": [
    "## Query 2\n",
    "\n",
    "¿Cuál fue el experimento que tuvo más participantes dentro del dataset?"
   ]
  },
  {
   "cell_type": "markdown",
   "metadata": {},
   "source": [
    "### Opción 1"
   ]
  },
  {
   "cell_type": "code",
   "execution_count": 4,
   "metadata": {},
   "outputs": [
    {
     "name": "stdout",
     "output_type": "stream",
     "text": [
      "Experimentos con más resultados: cookiesConsentBanner. \n",
      "Con un total de 135269 resultados.\n"
     ]
    }
   ],
   "source": [
    "# Open a cursor to perform database operations\n",
    "cur = conn.cursor()\n",
    "\n",
    "# Execute a query\n",
    "cur.execute(\"\"\"\n",
    "SELECT SPLIT_PART(experiments_, '=', 1) as splitted_exp, count(*) as count\n",
    "FROM (  SELECT unnest(string_to_array(experiments_, ',')) as experiments_\n",
    "        FROM (  SELECT REPLACE((\n",
    "                SELECT REPLACE((\n",
    "                SELECT REPLACE(experiments,', ',',')\n",
    "                ),'}','')\n",
    "                ),'{','') as experiments_ FROM dataset_meli) table_) table_\n",
    "GROUP BY splitted_exp\n",
    "ORDER BY count DESC\n",
    "LIMIT 1;\n",
    "\"\"\")\n",
    "\n",
    "# Retrieve query results\n",
    "query_2 = cur.fetchall()\n",
    "print(f'Experimentos con más resultados: {query_2[0][0]}. \\nCon un total de {query_2[0][1]} resultados.')"
   ]
  },
  {
   "cell_type": "markdown",
   "metadata": {},
   "source": [
    "### Opción 2"
   ]
  },
  {
   "cell_type": "code",
   "execution_count": 5,
   "metadata": {},
   "outputs": [
    {
     "name": "stdout",
     "output_type": "stream",
     "text": [
      "Experimentos con más resultados:cookiesConsentBanner. \n",
      "Con un total de 135269 resultados.\n"
     ]
    }
   ],
   "source": [
    "# Open a cursor to perform database operations\n",
    "cur = conn.cursor()\n",
    "\n",
    "# Execute a query\n",
    "cur.execute(\"\"\"\n",
    "ALTER TABLE dataset_meli\n",
    "ADD COLUMN experiments_json json;\n",
    "\n",
    "UPDATE \n",
    "   dataset_meli\n",
    "SET \n",
    "   experiments_json =  CAST( REPLACE((\n",
    "       SELECT REPLACE((\n",
    "       SELECT REPLACE((\n",
    "       SELECT REPLACE(experiments, ', ','\", \"')), '{','{\"')), '}','\"}')), '=','\" : \"') AS JSON);\n",
    "\n",
    "WITH experiments AS (\n",
    "        SELECT json_object_keys(experiments_json) experiment \n",
    "        FROM dataset_meli)\n",
    "SELECT experiment, COUNT(*) as count \n",
    "FROM experiments \n",
    "GROUP BY experiment\n",
    "ORDER BY count desc\n",
    "LIMIT 1;\n",
    "\"\"\")\n",
    "\n",
    "# Retrieve query results\n",
    "query_3 = cur.fetchall()\n",
    "print(f'Experimentos con más resultados:{query_3[0][0]}. \\nCon un total de {query_3[0][1]} resultados.')"
   ]
  },
  {
   "cell_type": "markdown",
   "metadata": {},
   "source": [
    "# Nivel 3\n",
    "\n",
    "Hostear el dataset en algún motor de consulta SQL cloud de preferencia ( MySQL,\n",
    "RedShift, BigQuery, Athena, SparkSQL, Azure SQL DataWarehouse, etc ) y disponibilizar\n",
    "instrucciones para su conexión remota y permitir ejecutar consultas SQL."
   ]
  },
  {
   "cell_type": "code",
   "execution_count": 6,
   "metadata": {},
   "outputs": [],
   "source": [
    "# Import google libraries\n",
    "from google.oauth2 import service_account\n",
    "from google.cloud import bigquery\n",
    "import pandas as pd\n",
    "\n",
    "# Path to your json key file\n",
    "KEY_PATH = \"meli-351904-bbaa7ed94ff7.json\"\n",
    "\n",
    "# Read the credentials from our file\n",
    "# Scopes are not necessary because we defined them in GCP already\n",
    "CREDS = service_account.Credentials.from_service_account_file(KEY_PATH)\n",
    "\n",
    "# The client object will be used to interact with BQ\n",
    "client = bigquery.Client(credentials=CREDS, project=CREDS.project_id)"
   ]
  },
  {
   "cell_type": "code",
   "execution_count": 7,
   "metadata": {},
   "outputs": [
    {
     "name": "stdout",
     "output_type": "stream",
     "text": [
      "<class 'pandas.core.frame.DataFrame'>\n",
      "RangeIndex: 141557 entries, 0 to 141556\n",
      "Data columns (total 6 columns):\n",
      " #   Column       Non-Null Count   Dtype              \n",
      "---  ------       --------------   -----              \n",
      " 0   event_name   141554 non-null  object             \n",
      " 1   item_id      64803 non-null   Int64              \n",
      " 2   timestamp    141554 non-null  datetime64[ns, UTC]\n",
      " 3   site         141554 non-null  object             \n",
      " 4   experiments  141554 non-null  object             \n",
      " 5   user_id      141554 non-null  Int64              \n",
      "dtypes: Int64(2), datetime64[ns, UTC](1), object(3)\n",
      "memory usage: 6.8+ MB\n"
     ]
    }
   ],
   "source": [
    "# SQL Query\n",
    "QUERY = \"\"\"\n",
    "SELECT * \n",
    "FROM `meli-351904.experiments_ds.dataset`\n",
    "\"\"\"\n",
    "\n",
    "# Execute query and transform to dataframe \n",
    "result_query = (\n",
    "    client.query(QUERY)\n",
    "    .result()\n",
    "    .to_dataframe()\n",
    ")\n",
    "\n",
    "# Print information\n",
    "result_query.info()"
   ]
  },
  {
   "cell_type": "markdown",
   "metadata": {},
   "source": [
    "## Explore original dataset with pandas"
   ]
  },
  {
   "cell_type": "code",
   "execution_count": 8,
   "metadata": {},
   "outputs": [
    {
     "name": "stdout",
     "output_type": "stream",
     "text": [
      "<class 'pandas.core.frame.DataFrame'>\n",
      "RangeIndex: 141554 entries, 0 to 141553\n",
      "Data columns (total 6 columns):\n",
      " #   Column       Non-Null Count   Dtype  \n",
      "---  ------       --------------   -----  \n",
      " 0   event_name   141554 non-null  object \n",
      " 1   item_id      64803 non-null   float64\n",
      " 2   timestamp    141554 non-null  object \n",
      " 3   site         141554 non-null  object \n",
      " 4   experiments  141554 non-null  object \n",
      " 5   user_id      141554 non-null  int64  \n",
      "dtypes: float64(1), int64(1), object(4)\n",
      "memory usage: 6.5+ MB\n"
     ]
    }
   ],
   "source": [
    "# Load original dataset\n",
    "df = pd.read_csv(\"dataset.csv\")\n",
    "\n",
    "# Print info, to verify results\n",
    "df.info()"
   ]
  },
  {
   "cell_type": "code",
   "execution_count": null,
   "metadata": {},
   "outputs": [],
   "source": []
  }
 ],
 "metadata": {
  "kernelspec": {
   "display_name": "Python 3.8.10 ('.venv': venv)",
   "language": "python",
   "name": "python3"
  },
  "language_info": {
   "codemirror_mode": {
    "name": "ipython",
    "version": 3
   },
   "file_extension": ".py",
   "mimetype": "text/x-python",
   "name": "python",
   "nbconvert_exporter": "python",
   "pygments_lexer": "ipython3",
   "version": "3.8.10"
  },
  "orig_nbformat": 4,
  "vscode": {
   "interpreter": {
    "hash": "b7e6e38c858f34970dbc8a49934bb64a353d07ac9f0d327e39c297e83d75d18b"
   }
  }
 },
 "nbformat": 4,
 "nbformat_minor": 2
}
